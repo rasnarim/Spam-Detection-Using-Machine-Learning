{
 "cells": [
  {
   "cell_type": "markdown",
   "id": "9ee06ec2-8afb-4df6-b004-5a21ef588dc8",
   "metadata": {},
   "source": [
    "# Spam Detection Using SVM and Random Forest Classifiers\n",
    "\n",
    "## Introduction\n",
    "In this notebook, we will develop a machine learning model to detect spam emails using the SMS Spam Collection dataset. Spam detection is a critical application in the field of natural language processing (NLP), helping to filter out unwanted and potentially harmful messages from users' inboxes.\n",
    "\n",
    "## Dataset\n",
    "The dataset used in this project is the SMS Spam Collection, sourced from the UCI Machine Learning Repository. This dataset contains 5,574 SMS messages labeled as 'ham' (legitimate) or 'spam'. You can find more details about the dataset [here](https://archive.ics.uci.edu/dataset/228/sms+spam+collection).\n",
    "\n",
    "## Libraries Used\n",
    "We will utilize the following Python libraries in this notebook:\n",
    "- `pandas`: For data manipulation and analysis.\n",
    "- `scikit-learn`: For machine learning algorithms and tools, including TfidfVectorizer for feature extraction.\n",
    "- `matplotlib` and `seaborn`: For data visualization.\n",
    "\n",
    "## Steps Covered\n",
    "In this notebook, we will cover the following steps:\n",
    "1. **Loading the Data**: Importing the dataset and understanding its structure.\n",
    "2. **Data Preprocessing**: Cleaning and preparing the data for analysis.\n",
    "3. **Feature Extraction**: Using TfidfVectorizer to convert text data into numerical features.\n",
    "4. **Model Training**: Training a machine learning model to classify messages as 'spam' or 'ham'.\n",
    "5. **Model Evaluation**: Evaluating the performance of the model using various metrics.\n",
    "\n",
    "## Acknowledgments\n",
    "We would like to thank the UCI Machine Learning Repository for providing the SMS Spam Collection dataset. This project is inspired by the need to develop efficient and accurate spam detection systems to enhance email security.\n",
    "\n",
    "Let's get started!\n",
    "\n",
    "\n"
   ]
  },
  {
   "cell_type": "code",
   "execution_count": 4,
   "id": "62693df1-2cf3-436f-a5c0-020f15f2b400",
   "metadata": {},
   "outputs": [],
   "source": [
    "import numpy as np\n",
    "import pandas as pd\n",
    "import matplotlib.pyplot as plt"
   ]
  },
  {
   "cell_type": "code",
   "execution_count": 5,
   "id": "90cce79d-2097-4319-a0e9-fddef1f9d856",
   "metadata": {},
   "outputs": [],
   "source": [
    "df = pd.read_csv('spam.tsv', sep='\\t')"
   ]
  },
  {
   "cell_type": "markdown",
   "id": "f4b0748b-174b-4f10-a573-839887c22e6e",
   "metadata": {},
   "source": [
    "## Initial Data Exploration\n",
    "\n",
    "Before diving into the data preprocessing and model training steps, let's take a quick look at our dataset to understand its structure and key statistics.\n",
    "\n",
    "### Data Overview\n",
    "\n",
    "Here are the first few rows of the dataset:\n",
    "\n"
   ]
  },
  {
   "cell_type": "code",
   "execution_count": 6,
   "id": "306afcaa-54ca-41c4-bc6d-463e21c8d332",
   "metadata": {},
   "outputs": [
    {
     "data": {
      "text/html": [
       "<div>\n",
       "<style scoped>\n",
       "    .dataframe tbody tr th:only-of-type {\n",
       "        vertical-align: middle;\n",
       "    }\n",
       "\n",
       "    .dataframe tbody tr th {\n",
       "        vertical-align: top;\n",
       "    }\n",
       "\n",
       "    .dataframe thead th {\n",
       "        text-align: right;\n",
       "    }\n",
       "</style>\n",
       "<table border=\"1\" class=\"dataframe\">\n",
       "  <thead>\n",
       "    <tr style=\"text-align: right;\">\n",
       "      <th></th>\n",
       "      <th>label</th>\n",
       "      <th>message</th>\n",
       "      <th>length</th>\n",
       "      <th>punct</th>\n",
       "    </tr>\n",
       "  </thead>\n",
       "  <tbody>\n",
       "    <tr>\n",
       "      <th>0</th>\n",
       "      <td>ham</td>\n",
       "      <td>Go until jurong point, crazy.. Available only ...</td>\n",
       "      <td>111</td>\n",
       "      <td>9</td>\n",
       "    </tr>\n",
       "    <tr>\n",
       "      <th>1</th>\n",
       "      <td>ham</td>\n",
       "      <td>Ok lar... Joking wif u oni...</td>\n",
       "      <td>29</td>\n",
       "      <td>6</td>\n",
       "    </tr>\n",
       "    <tr>\n",
       "      <th>2</th>\n",
       "      <td>spam</td>\n",
       "      <td>Free entry in 2 a wkly comp to win FA Cup fina...</td>\n",
       "      <td>155</td>\n",
       "      <td>6</td>\n",
       "    </tr>\n",
       "    <tr>\n",
       "      <th>3</th>\n",
       "      <td>ham</td>\n",
       "      <td>U dun say so early hor... U c already then say...</td>\n",
       "      <td>49</td>\n",
       "      <td>6</td>\n",
       "    </tr>\n",
       "    <tr>\n",
       "      <th>4</th>\n",
       "      <td>ham</td>\n",
       "      <td>Nah I don't think he goes to usf, he lives aro...</td>\n",
       "      <td>61</td>\n",
       "      <td>2</td>\n",
       "    </tr>\n",
       "  </tbody>\n",
       "</table>\n",
       "</div>"
      ],
      "text/plain": [
       "  label                                            message  length  punct\n",
       "0   ham  Go until jurong point, crazy.. Available only ...     111      9\n",
       "1   ham                      Ok lar... Joking wif u oni...      29      6\n",
       "2  spam  Free entry in 2 a wkly comp to win FA Cup fina...     155      6\n",
       "3   ham  U dun say so early hor... U c already then say...      49      6\n",
       "4   ham  Nah I don't think he goes to usf, he lives aro...      61      2"
      ]
     },
     "execution_count": 6,
     "metadata": {},
     "output_type": "execute_result"
    }
   ],
   "source": [
    "df.head()"
   ]
  },
  {
   "cell_type": "markdown",
   "id": "d069765b-5d9d-43d8-b7e7-69e712967623",
   "metadata": {},
   "source": [
    "## Checking for Missing Values:\n",
    "It is important to ensure that our dataset does not contain any missing values, as these could affect our model's performance. We can check for NaN values using the following code:"
   ]
  },
  {
   "cell_type": "code",
   "execution_count": 7,
   "id": "38b8d766-8cae-4967-898b-e23a37485537",
   "metadata": {},
   "outputs": [
    {
     "data": {
      "text/plain": [
       "label      0\n",
       "message    0\n",
       "length     0\n",
       "punct      0\n",
       "dtype: int64"
      ]
     },
     "execution_count": 7,
     "metadata": {},
     "output_type": "execute_result"
    }
   ],
   "source": [
    "df.isna().sum()"
   ]
  },
  {
   "cell_type": "markdown",
   "id": "9c5c512d-d418-41fe-8bf2-a05d823b18cb",
   "metadata": {},
   "source": [
    "The output shows that there are no missing values in any of the columns."
   ]
  },
  {
   "cell_type": "markdown",
   "id": "91c13513-eacc-4c43-8f5e-225a9971da40",
   "metadata": {},
   "source": [
    "## Statistical Summary\n",
    "Let's look at some basic statistics of the numerical columns in our dataset to get a sense of the distribution of message lengths and punctuation counts."
   ]
  },
  {
   "cell_type": "code",
   "execution_count": 8,
   "id": "faf9702e-223b-47b9-af66-0064de869b2b",
   "metadata": {},
   "outputs": [
    {
     "data": {
      "text/html": [
       "<div>\n",
       "<style scoped>\n",
       "    .dataframe tbody tr th:only-of-type {\n",
       "        vertical-align: middle;\n",
       "    }\n",
       "\n",
       "    .dataframe tbody tr th {\n",
       "        vertical-align: top;\n",
       "    }\n",
       "\n",
       "    .dataframe thead th {\n",
       "        text-align: right;\n",
       "    }\n",
       "</style>\n",
       "<table border=\"1\" class=\"dataframe\">\n",
       "  <thead>\n",
       "    <tr style=\"text-align: right;\">\n",
       "      <th></th>\n",
       "      <th>length</th>\n",
       "      <th>punct</th>\n",
       "    </tr>\n",
       "  </thead>\n",
       "  <tbody>\n",
       "    <tr>\n",
       "      <th>count</th>\n",
       "      <td>5572.000000</td>\n",
       "      <td>5572.000000</td>\n",
       "    </tr>\n",
       "    <tr>\n",
       "      <th>mean</th>\n",
       "      <td>80.489950</td>\n",
       "      <td>4.177495</td>\n",
       "    </tr>\n",
       "    <tr>\n",
       "      <th>std</th>\n",
       "      <td>59.942907</td>\n",
       "      <td>4.623919</td>\n",
       "    </tr>\n",
       "    <tr>\n",
       "      <th>min</th>\n",
       "      <td>2.000000</td>\n",
       "      <td>0.000000</td>\n",
       "    </tr>\n",
       "    <tr>\n",
       "      <th>25%</th>\n",
       "      <td>36.000000</td>\n",
       "      <td>2.000000</td>\n",
       "    </tr>\n",
       "    <tr>\n",
       "      <th>50%</th>\n",
       "      <td>62.000000</td>\n",
       "      <td>3.000000</td>\n",
       "    </tr>\n",
       "    <tr>\n",
       "      <th>75%</th>\n",
       "      <td>122.000000</td>\n",
       "      <td>6.000000</td>\n",
       "    </tr>\n",
       "    <tr>\n",
       "      <th>max</th>\n",
       "      <td>910.000000</td>\n",
       "      <td>133.000000</td>\n",
       "    </tr>\n",
       "  </tbody>\n",
       "</table>\n",
       "</div>"
      ],
      "text/plain": [
       "            length        punct\n",
       "count  5572.000000  5572.000000\n",
       "mean     80.489950     4.177495\n",
       "std      59.942907     4.623919\n",
       "min       2.000000     0.000000\n",
       "25%      36.000000     2.000000\n",
       "50%      62.000000     3.000000\n",
       "75%     122.000000     6.000000\n",
       "max     910.000000   133.000000"
      ]
     },
     "execution_count": 8,
     "metadata": {},
     "output_type": "execute_result"
    }
   ],
   "source": [
    "df.describe()"
   ]
  },
  {
   "cell_type": "markdown",
   "id": "ac3e5979-5517-4b3d-a4ea-7a8f55b5031e",
   "metadata": {},
   "source": [
    "## Checking and Handling Data Imbalance\n",
    "\n",
    "### Data Imbalance Check\n",
    "\n",
    "In real-world datasets, it's common to encounter imbalanced classes, which can significantly affect the performance of machine learning models. Let's check if our dataset is balanced by looking at the distribution of 'ham' and 'spam' labels.\n",
    "\n"
   ]
  },
  {
   "cell_type": "code",
   "execution_count": 9,
   "id": "f6d11364-4e62-4c3d-8784-eb9aa6784ccc",
   "metadata": {},
   "outputs": [
    {
     "data": {
      "text/plain": [
       "label\n",
       "ham     4825\n",
       "spam     747\n",
       "Name: count, dtype: int64"
      ]
     },
     "execution_count": 9,
     "metadata": {},
     "output_type": "execute_result"
    }
   ],
   "source": [
    "df['label'].value_counts()"
   ]
  },
  {
   "cell_type": "markdown",
   "id": "5b62a56f-c4a5-46cf-94b7-e8b277584ada",
   "metadata": {},
   "source": [
    "To get a clearer picture, let's look at the percentage distribution of each label:"
   ]
  },
  {
   "cell_type": "code",
   "execution_count": 10,
   "id": "357ccd81-5a03-41a3-b529-eb226b9184cc",
   "metadata": {},
   "outputs": [
    {
     "data": {
      "text/plain": [
       "label\n",
       "ham     86.593683\n",
       "spam    13.406317\n",
       "Name: count, dtype: float64"
      ]
     },
     "execution_count": 10,
     "metadata": {},
     "output_type": "execute_result"
    }
   ],
   "source": [
    "df['label'].value_counts()/len(df)*100"
   ]
  },
  {
   "cell_type": "code",
   "execution_count": 11,
   "id": "e9d53c5a-b212-4740-ba7b-6437afb154f1",
   "metadata": {},
   "outputs": [
    {
     "data": {
      "text/plain": [
       "([<matplotlib.patches.Wedge at 0x1b5b19c4440>,\n",
       "  <matplotlib.patches.Wedge at 0x1b5b1b8f620>],\n",
       " [Text(-0.490596282293446, -1.0951325434849655, 'Ham'),\n",
       "  Text(0.4497133057636077, 1.0038714771419537, 'Spam')])"
      ]
     },
     "execution_count": 11,
     "metadata": {},
     "output_type": "execute_result"
    },
    {
     "data": {
      "image/png": "[encoded data removed]",
      "text/plain": [
       "<Figure size 640x480 with 1 Axes>"
      ]
     },
     "metadata": {},
     "output_type": "display_data"
    }
   ],
   "source": [
    "labels = ['Ham', 'Spam']\n",
    "label_count = df['label'].value_counts()\n",
    "explode = (0.1, 0)\n",
    "\n",
    "# plotting the pie chart\n",
    "fig, ax = plt.subplots()\n",
    "ax.pie(label_count.values, explode=explode, labels=labels, startangle=90)"
   ]
  },
  {
   "cell_type": "markdown",
   "id": "9daaed1a-b15c-436f-bc2c-eb6cc0e65fe1",
   "metadata": {},
   "source": [
    "## Balancing the Dataset\n",
    "To ensure our model performs well and is not biased towards the majority class, we need to balance the dataset. We can do this by sampling an equal number of 'ham' and 'spam' messages. Here's how we can achieve that:\n",
    "\n",
    "Separate the 'ham' and 'spam' messages:"
   ]
  },
  {
   "cell_type": "code",
   "execution_count": 12,
   "id": "bac21ed3-cafc-4353-856f-63d7d0c7a8e0",
   "metadata": {},
   "outputs": [],
   "source": [
    "ham = df[df['label'] == 'ham']\n",
    "spam = df[df['label'] == 'spam']"
   ]
  },
  {
   "cell_type": "markdown",
   "id": "83ab82f7-3f9e-4078-bae5-29f0488092e6",
   "metadata": {},
   "source": [
    "Sample the 'ham' messages to match the number of 'spam' messages:\n"
   ]
  },
  {
   "cell_type": "code",
   "execution_count": 13,
   "id": "54b462cf-eb37-4bf0-88cd-a1a0aeba49eb",
   "metadata": {},
   "outputs": [],
   "source": [
    "ham =ham.sample(spam.shape[0])"
   ]
  },
  {
   "cell_type": "markdown",
   "id": "aaa9a7dd-715d-4cea-9017-ff2298c1036a",
   "metadata": {},
   "source": [
    "Verify the shapes of the new balanced datasets:"
   ]
  },
  {
   "cell_type": "code",
   "execution_count": 14,
   "id": "135b8f51-b554-486f-a64d-2f1b11121a11",
   "metadata": {},
   "outputs": [
    {
     "data": {
      "text/plain": [
       "((747, 4), (747, 4))"
      ]
     },
     "execution_count": 14,
     "metadata": {},
     "output_type": "execute_result"
    }
   ],
   "source": [
    "ham.shape, spam.shape"
   ]
  },
  {
   "cell_type": "markdown",
   "id": "0dba2017-bb25-4cf0-b867-547552329c2c",
   "metadata": {},
   "source": [
    "The output confirms that both 'ham' and 'spam' now have the same length.\n"
   ]
  },
  {
   "cell_type": "markdown",
   "id": "6de2a6d8-046b-4066-9c55-cc1070da7606",
   "metadata": {},
   "source": [
    "To continue with preparing the data for analysis, here's the Python code that balances the dataset and concatenates the balanced 'ham' and 'spam' subsets. This code also includes displaying the shape and first few rows of the concatenated dataset:"
   ]
  },
  {
   "cell_type": "code",
   "execution_count": 15,
   "id": "41e004e5-5121-4a90-a2f9-5163f2facb6e",
   "metadata": {},
   "outputs": [],
   "source": [
    "data = pd.concat([ham, spam], ignore_index=True)"
   ]
  },
  {
   "cell_type": "code",
   "execution_count": 16,
   "id": "48e0ec04-1492-4c7f-8700-079ce9f156e3",
   "metadata": {},
   "outputs": [
    {
     "data": {
      "text/plain": [
       "(1494, 4)"
      ]
     },
     "execution_count": 16,
     "metadata": {},
     "output_type": "execute_result"
    }
   ],
   "source": [
    "data.shape"
   ]
  },
  {
   "cell_type": "code",
   "execution_count": 17,
   "id": "cfc3dded-e8f6-4cb4-b5fc-b539a24e7a6a",
   "metadata": {},
   "outputs": [
    {
     "data": {
      "text/html": [
       "<div>\n",
       "<style scoped>\n",
       "    .dataframe tbody tr th:only-of-type {\n",
       "        vertical-align: middle;\n",
       "    }\n",
       "\n",
       "    .dataframe tbody tr th {\n",
       "        vertical-align: top;\n",
       "    }\n",
       "\n",
       "    .dataframe thead th {\n",
       "        text-align: right;\n",
       "    }\n",
       "</style>\n",
       "<table border=\"1\" class=\"dataframe\">\n",
       "  <thead>\n",
       "    <tr style=\"text-align: right;\">\n",
       "      <th></th>\n",
       "      <th>label</th>\n",
       "      <th>message</th>\n",
       "      <th>length</th>\n",
       "      <th>punct</th>\n",
       "    </tr>\n",
       "  </thead>\n",
       "  <tbody>\n",
       "    <tr>\n",
       "      <th>0</th>\n",
       "      <td>ham</td>\n",
       "      <td>You didn't have to tell me that...now i'm thin...</td>\n",
       "      <td>89</td>\n",
       "      <td>7</td>\n",
       "    </tr>\n",
       "    <tr>\n",
       "      <th>1</th>\n",
       "      <td>ham</td>\n",
       "      <td>I am going to film 2day da. At 6pm. Sorry da.</td>\n",
       "      <td>45</td>\n",
       "      <td>3</td>\n",
       "    </tr>\n",
       "    <tr>\n",
       "      <th>2</th>\n",
       "      <td>ham</td>\n",
       "      <td>Not to worry. I'm sure you'll get it.</td>\n",
       "      <td>37</td>\n",
       "      <td>4</td>\n",
       "    </tr>\n",
       "    <tr>\n",
       "      <th>3</th>\n",
       "      <td>ham</td>\n",
       "      <td>Are you ok. What happen to behave like this</td>\n",
       "      <td>43</td>\n",
       "      <td>1</td>\n",
       "    </tr>\n",
       "    <tr>\n",
       "      <th>4</th>\n",
       "      <td>ham</td>\n",
       "      <td>Moji i love you more than words. Have a rich day</td>\n",
       "      <td>48</td>\n",
       "      <td>1</td>\n",
       "    </tr>\n",
       "  </tbody>\n",
       "</table>\n",
       "</div>"
      ],
      "text/plain": [
       "  label                                            message  length  punct\n",
       "0   ham  You didn't have to tell me that...now i'm thin...      89      7\n",
       "1   ham      I am going to film 2day da. At 6pm. Sorry da.      45      3\n",
       "2   ham              Not to worry. I'm sure you'll get it.      37      4\n",
       "3   ham        Are you ok. What happen to behave like this      43      1\n",
       "4   ham   Moji i love you more than words. Have a rich day      48      1"
      ]
     },
     "execution_count": 17,
     "metadata": {},
     "output_type": "execute_result"
    }
   ],
   "source": [
    "data.head()"
   ]
  },
  {
   "cell_type": "code",
   "execution_count": 18,
   "id": "94b708a5-649a-4d0c-a9af-401e8414b4b2",
   "metadata": {},
   "outputs": [
    {
     "data": {
      "image/png": "[encoded data removed]",
      "text/plain": [
       "<Figure size 640x480 with 1 Axes>"
      ]
     },
     "metadata": {},
     "output_type": "display_data"
    }
   ],
   "source": [
    "plt.hist(data[data['label']=='ham']['length'], bins=100, alpha=0.7, color='blue');\n",
    "plt.hist(data[data['label']=='spam']['length'], bins=100, alpha=0.7, color='brown');"
   ]
  },
  {
   "cell_type": "markdown",
   "id": "8af06588-9fa6-4985-9576-b276ba031271",
   "metadata": {},
   "source": [
    "The distribution function for message length shows that 'ham' messages tend to peak at shorter lengths compared to 'spam' messages. However, there is a significant overlap between the two distributions."
   ]
  },
  {
   "cell_type": "code",
   "execution_count": 19,
   "id": "a2610728-8959-40a4-9e2e-0db4493e6b62",
   "metadata": {},
   "outputs": [
    {
     "data": {
      "image/png": "[encoded data removed]",
      "text/plain": [
       "<Figure size 640x480 with 1 Axes>"
      ]
     },
     "metadata": {},
     "output_type": "display_data"
    }
   ],
   "source": [
    "plt.hist(data[data['label']=='ham']['punct'], bins=100, alpha=0.7, color='blue');\n",
    "plt.hist(data[data['label']=='spam']['punct'], bins=100, alpha=0.7, color='brown');"
   ]
  },
  {
   "cell_type": "markdown",
   "id": "9a57d4e7-4c57-4739-a00a-888399801870",
   "metadata": {},
   "source": [
    "For the punctuation count distribution, the two distributions overlap significantly, making it difficult to visually distinguish between 'ham' and 'spam' messages. Therefore, there's not much to infer from this feature."
   ]
  },
  {
   "cell_type": "markdown",
   "id": "11dde831-cd9e-4efb-a022-ed00af995733",
   "metadata": {},
   "source": [
    "Next we split the data into train and test data set and then use TfidfVectorizer to extract features from the data. \n",
    "\n",
    "## Hyperparameter Tuning with Grid Search\n",
    "\n",
    "To optimize the performance of our RandomForestClassifier, we use GridSearchCV to find the best number of estimators (trees) for the classifier. GridSearchCV performs an exhaustive search over a specified parameter grid to find the best combination of parameters.\n",
    "\n",
    "### Steps:\n",
    "\n",
    "1. **Pipeline Creation:**\n",
    "   - We create a pipeline that includes `TfidfVectorizer` for converting text data into TF-IDF features and `RandomForestClassifier` for classification.\n",
    "\n",
    "2. **Parameter Grid Definition:**\n",
    "   - We define a parameter grid for the `n_estimators` parameter of the `RandomForestClassifier`, specifying the values `[10, 50, 100, 200]` to search through.\n",
    "\n",
    "3. **GridSearchCV Initialization:**\n",
    "   - We initialize `GridSearchCV` with the pipeline, parameter grid, and specify 5-fold cross-validation (`cv=5`).\n",
    "   - We set `n_jobs=-1` to utilize all available processors for parallel computation.\n",
    "   - We use `accuracy` as the scoring metric.\n",
    "\n",
    "4. **Model Training:**\n",
    "   - We train the model using `grid_search.fit(X_train, y_train)` to find the best parameters based on the training data.\n",
    "\n",
    "5. **Best Parameters:**\n",
    "   - After the grid search, we print the best parameters found using `grid_search.best_params_`.\n",
    "\n",
    "Here is the code implementation:"
   ]
  },
  {
   "cell_type": "code",
   "execution_count": 20,
   "id": "4f398e9f-e8e6-4368-8d2f-e584a4ea31c4",
   "metadata": {},
   "outputs": [],
   "source": [
    "from sklearn.model_selection import train_test_split"
   ]
  },
  {
   "cell_type": "code",
   "execution_count": 21,
   "id": "8b3efb11-d957-4d40-98e7-f64f4cb86e86",
   "metadata": {},
   "outputs": [],
   "source": [
    "X_train, X_test, y_train, y_test = train_test_split(data['message'], data['label'], test_size=0.3, random_state=47, shuffle=True)"
   ]
  },
  {
   "cell_type": "code",
   "execution_count": 22,
   "id": "1633b845-f57b-4ef4-9ae5-6dcbafa41691",
   "metadata": {},
   "outputs": [
    {
     "name": "stdout",
     "output_type": "stream",
     "text": [
      "Best parameters found:  {'classifier__n_estimators': 200}\n"
     ]
    }
   ],
   "source": [
    "from sklearn.model_selection import GridSearchCV\n",
    "from sklearn.ensemble import RandomForestClassifier\n",
    "from sklearn.feature_extraction.text import TfidfVectorizer\n",
    "from sklearn.pipeline import Pipeline\n",
    "from sklearn.metrics import classification_report, confusion_matrix, accuracy_score\n",
    "\n",
    "# Create a pipeline with TfidfVectorizer and RandomForestClassifier\n",
    "\n",
    "pipeline = Pipeline([\n",
    "    (\"tfidf\", TfidfVectorizer()),\n",
    "    ('classifier', RandomForestClassifier(random_state=47))\n",
    "])\n",
    "\n",
    "# Define the parameter grid for GridSearchCV\n",
    "\n",
    "param_grid = {\n",
    "    \"classifier__n_estimators\": [10, 50, 100, 200]\n",
    "}\n",
    "\n",
    "# Initialize Greid SearchCV\n",
    "\n",
    "grid_search = GridSearchCV(pipeline, param_grid, cv=5, scoring='accuracy', n_jobs=-1)\n",
    "\n",
    "# train the model with GridSearchCV to find the best parameters\n",
    "grid_search.fit(X_train, y_train)\n",
    "\n",
    "# Print the best paramenters\n",
    "print(\"Best parameters found: \", grid_search.best_params_)\n",
    "\n"
   ]
  },
  {
   "cell_type": "markdown",
   "id": "14348a3e-9228-4fcc-825d-7eec6d169a60",
   "metadata": {},
   "source": [
    "## Model Evaluation\n",
    "\n",
    "After identifying the best parameters for the RandomForestClassifier using GridSearchCV, we can evaluate the performance of the model on the test data. This evaluation includes generating predictions, calculating performance metrics, and analyzing the results.\n",
    "\n",
    "### Steps:\n",
    "\n",
    "1. **Predictions:**\n",
    "   - Using the best estimator found by GridSearchCV, we predict the labels for the test set.\n",
    "\n",
    "2. **Performance Metrics:**\n",
    "   - We generate a classification report, which includes precision, recall, F1-score, and support for each class.\n",
    "   - We compute the confusion matrix to visualize the performance of the classifier in terms of true positives, true negatives, false positives, and false negatives.\n",
    "   - We calculate the overall accuracy score of the model."
   ]
  },
  {
   "cell_type": "code",
   "execution_count": 23,
   "id": "59f186ab-5169-4476-b592-33a0356445f2",
   "metadata": {},
   "outputs": [
    {
     "name": "stdout",
     "output_type": "stream",
     "text": [
      "Classification Report:\n",
      "               precision    recall  f1-score   support\n",
      "\n",
      "         ham       0.94      0.99      0.96       234\n",
      "        spam       0.99      0.93      0.96       215\n",
      "\n",
      "    accuracy                           0.96       449\n",
      "   macro avg       0.96      0.96      0.96       449\n",
      "weighted avg       0.96      0.96      0.96       449\n",
      "\n",
      "Confusion Matrix:\n",
      " [[232   2]\n",
      " [ 16 199]]\n",
      "Accuracy Score: 0.9599109131403119\n"
     ]
    }
   ],
   "source": [
    "# Predict the test set results with the best model\n",
    "y_pred = grid_search.best_estimator_.predict(X_test)\n",
    "# Evaluate the model\n",
    "print(\"Classification Report:\\n\", classification_report(y_test, y_pred))\n",
    "print(\"Confusion Matrix:\\n\", confusion_matrix(y_test, y_pred))\n",
    "print(\"Accuracy Score:\", accuracy_score(y_test, y_pred))"
   ]
  },
  {
   "cell_type": "markdown",
   "id": "55f76637-0ffc-4dc4-bc7c-a7b3ab0b05a8",
   "metadata": {},
   "source": [
    "## SVM Classifier for Spam Detection\n",
    "\n",
    "In this section, we will use Support Vector Machine (SVM) classifiers to predict spam messages. We will implement two approaches to handle the class imbalance in our dataset:\n",
    "\n",
    "1. **Using a Balanced Subset:**\n",
    "   - We will sample the \"ham\" messages to match the number of \"spam\" messages, creating a balanced subset.\n",
    "   - We will train an SVM classifier on this balanced subset and evaluate its performance.\n",
    "\n",
    "2. **Using the Entire Dataset with `class_weight='balanced'`:**\n",
    "   - We will use the entire dataset and handle the class imbalance by setting `class_weight='balanced'` in the SVM classifier.\n",
    "   - This approach will adjust the weights inversely proportional to the class frequencies, allowing the classifier to handle imbalanced data more effectively.\n",
    "\n",
    "### Step 1: Using a Balanced Subset\n",
    "\n",
    "We will sample the \"ham\" messages to create a balanced subset with an equal number of \"ham\" and \"spam\" messages. We will then split this subset into training and test sets and train an SVM classifier.\n",
    "\n",
    "### Step 2: Using the Entire Dataset with `class_weight='balanced'`\n",
    "\n",
    "We will use the entire dataset and set `class_weight='balanced'` in the SVM classifier to handle class imbalance. This approach leverages the entire dataset while adjusting the class weights to improve classification performance for the minority class.\n"
   ]
  },
  {
   "cell_type": "code",
   "execution_count": 24,
   "id": "acd0c569-c1b4-44d7-862c-8b9d5c9dfe75",
   "metadata": {},
   "outputs": [],
   "source": [
    "from sklearn.svm import SVC"
   ]
  },
  {
   "cell_type": "code",
   "execution_count": 25,
   "id": "9bcaf5d0-b3f7-4966-af4c-ed2f15349584",
   "metadata": {},
   "outputs": [],
   "source": [
    "svm = Pipeline([('tfidf', TfidfVectorizer()), ('classifier', SVC(C=100, gamma='auto'))])"
   ]
  },
  {
   "cell_type": "code",
   "execution_count": 26,
   "id": "f6fe2b57-14c9-4ab1-a8bb-5824c0288619",
   "metadata": {},
   "outputs": [
    {
     "data": {
      "text/html": [
       "<style>#sk-container-id-1 {\n",
       "  /* Definition of color scheme common for light and dark mode */\n",
       "  --sklearn-color-text: black;\n",
       "  --sklearn-color-line: gray;\n",
       "  /* Definition of color scheme for unfitted estimators */\n",
       "  --sklearn-color-unfitted-level-0: #fff5e6;\n",
       "  --sklearn-color-unfitted-level-1: #f6e4d2;\n",
       "  --sklearn-color-unfitted-level-2: #ffe0b3;\n",
       "  --sklearn-color-unfitted-level-3: chocolate;\n",
       "  /* Definition of color scheme for fitted estimators */\n",
       "  --sklearn-color-fitted-level-0: #f0f8ff;\n",
       "  --sklearn-color-fitted-level-1: #d4ebff;\n",
       "  --sklearn-color-fitted-level-2: #b3dbfd;\n",
       "  --sklearn-color-fitted-level-3: cornflowerblue;\n",
       "\n",
       "  /* Specific color for light theme */\n",
       "  --sklearn-color-text-on-default-background: var(--sg-text-color, var(--theme-code-foreground, var(--jp-content-font-color1, black)));\n",
       "  --sklearn-color-background: var(--sg-background-color, var(--theme-background, var(--jp-layout-color0, white)));\n",
       "  --sklearn-color-border-box: var(--sg-text-color, var(--theme-code-foreground, var(--jp-content-font-color1, black)));\n",
       "  --sklearn-color-icon: #696969;\n",
       "\n",
       "  @media (prefers-color-scheme: dark) {\n",
       "    /* Redefinition of color scheme for dark theme */\n",
       "    --sklearn-color-text-on-default-background: var(--sg-text-color, var(--theme-code-foreground, var(--jp-content-font-color1, white)));\n",
       "    --sklearn-color-background: var(--sg-background-color, var(--theme-background, var(--jp-layout-color0, #111)));\n",
       "    --sklearn-color-border-box: var(--sg-text-color, var(--theme-code-foreground, var(--jp-content-font-color1, white)));\n",
       "    --sklearn-color-icon: #878787;\n",
       "  }\n",
       "}\n",
       "\n",
       "#sk-container-id-1 {\n",
       "  color: var(--sklearn-color-text);\n",
       "}\n",
       "\n",
       "#sk-container-id-1 pre {\n",
       "  padding: 0;\n",
       "}\n",
       "\n",
       "#sk-container-id-1 input.sk-hidden--visually {\n",
       "  border: 0;\n",
       "  clip: rect(1px 1px 1px 1px);\n",
       "  clip: rect(1px, 1px, 1px, 1px);\n",
       "  height: 1px;\n",
       "  margin: -1px;\n",
       "  overflow: hidden;\n",
       "  padding: 0;\n",
       "  position: absolute;\n",
       "  width: 1px;\n",
       "}\n",
       "\n",
       "#sk-container-id-1 div.sk-dashed-wrapped {\n",
       "  border: 1px dashed var(--sklearn-color-line);\n",
       "  margin: 0 0.4em 0.5em 0.4em;\n",
       "  box-sizing: border-box;\n",
       "  padding-bottom: 0.4em;\n",
       "  background-color: var(--sklearn-color-background);\n",
       "}\n",
       "\n",
       "#sk-container-id-1 div.sk-container {\n",
       "  /* jupyter's `normalize.less` sets `[hidden] { display: none; }`\n",
       "     but bootstrap.min.css set `[hidden] { display: none !important; }`\n",
       "     so we also need the `!important` here to be able to override the\n",
       "     default hidden behavior on the sphinx rendered scikit-learn.org.\n",
       "     See: https://github.com/scikit-learn/scikit-learn/issues/21755 */\n",
       "  display: inline-block !important;\n",
       "  position: relative;\n",
       "}\n",
       "\n",
       "#sk-container-id-1 div.sk-text-repr-fallback {\n",
       "  display: none;\n",
       "}\n",
       "\n",
       "div.sk-parallel-item,\n",
       "div.sk-serial,\n",
       "div.sk-item {\n",
       "  /* draw centered vertical line to link estimators */\n",
       "  background-image: linear-gradient(var(--sklearn-color-text-on-default-background), var(--sklearn-color-text-on-default-background));\n",
       "  background-size: 2px 100%;\n",
       "  background-repeat: no-repeat;\n",
       "  background-position: center center;\n",
       "}\n",
       "\n",
       "/* Parallel-specific style estimator block */\n",
       "\n",
       "#sk-container-id-1 div.sk-parallel-item::after {\n",
       "  content: \"\";\n",
       "  width: 100%;\n",
       "  border-bottom: 2px solid var(--sklearn-color-text-on-default-background);\n",
       "  flex-grow: 1;\n",
       "}\n",
       "\n",
       "#sk-container-id-1 div.sk-parallel {\n",
       "  display: flex;\n",
       "  align-items: stretch;\n",
       "  justify-content: center;\n",
       "  background-color: var(--sklearn-color-background);\n",
       "  position: relative;\n",
       "}\n",
       "\n",
       "#sk-container-id-1 div.sk-parallel-item {\n",
       "  display: flex;\n",
       "  flex-direction: column;\n",
       "}\n",
       "\n",
       "#sk-container-id-1 div.sk-parallel-item:first-child::after {\n",
       "  align-self: flex-end;\n",
       "  width: 50%;\n",
       "}\n",
       "\n",
       "#sk-container-id-1 div.sk-parallel-item:last-child::after {\n",
       "  align-self: flex-start;\n",
       "  width: 50%;\n",
       "}\n",
       "\n",
       "#sk-container-id-1 div.sk-parallel-item:only-child::after {\n",
       "  width: 0;\n",
       "}\n",
       "\n",
       "/* Serial-specific style estimator block */\n",
       "\n",
       "#sk-container-id-1 div.sk-serial {\n",
       "  display: flex;\n",
       "  flex-direction: column;\n",
       "  align-items: center;\n",
       "  background-color: var(--sklearn-color-background);\n",
       "  padding-right: 1em;\n",
       "  padding-left: 1em;\n",
       "}\n",
       "\n",
       "\n",
       "/* Toggleable style: style used for estimator/Pipeline/ColumnTransformer box that is\n",
       "clickable and can be expanded/collapsed.\n",
       "- Pipeline and ColumnTransformer use this feature and define the default style\n",
       "- Estimators will overwrite some part of the style using the `sk-estimator` class\n",
       "*/\n",
       "\n",
       "/* Pipeline and ColumnTransformer style (default) */\n",
       "\n",
       "#sk-container-id-1 div.sk-toggleable {\n",
       "  /* Default theme specific background. It is overwritten whether we have a\n",
       "  specific estimator or a Pipeline/ColumnTransformer */\n",
       "  background-color: var(--sklearn-color-background);\n",
       "}\n",
       "\n",
       "/* Toggleable label */\n",
       "#sk-container-id-1 label.sk-toggleable__label {\n",
       "  cursor: pointer;\n",
       "  display: block;\n",
       "  width: 100%;\n",
       "  margin-bottom: 0;\n",
       "  padding: 0.5em;\n",
       "  box-sizing: border-box;\n",
       "  text-align: center;\n",
       "}\n",
       "\n",
       "#sk-container-id-1 label.sk-toggleable__label-arrow:before {\n",
       "  /* Arrow on the left of the label */\n",
       "  content: \"▸\";\n",
       "  float: left;\n",
       "  margin-right: 0.25em;\n",
       "  color: var(--sklearn-color-icon);\n",
       "}\n",
       "\n",
       "#sk-container-id-1 label.sk-toggleable__label-arrow:hover:before {\n",
       "  color: var(--sklearn-color-text);\n",
       "}\n",
       "\n",
       "/* Toggleable content - dropdown */\n",
       "\n",
       "#sk-container-id-1 div.sk-toggleable__content {\n",
       "  max-height: 0;\n",
       "  max-width: 0;\n",
       "  overflow: hidden;\n",
       "  text-align: left;\n",
       "  /* unfitted */\n",
       "  background-color: var(--sklearn-color-unfitted-level-0);\n",
       "}\n",
       "\n",
       "#sk-container-id-1 div.sk-toggleable__content.fitted {\n",
       "  /* fitted */\n",
       "  background-color: var(--sklearn-color-fitted-level-0);\n",
       "}\n",
       "\n",
       "#sk-container-id-1 div.sk-toggleable__content pre {\n",
       "  margin: 0.2em;\n",
       "  border-radius: 0.25em;\n",
       "  color: var(--sklearn-color-text);\n",
       "  /* unfitted */\n",
       "  background-color: var(--sklearn-color-unfitted-level-0);\n",
       "}\n",
       "\n",
       "#sk-container-id-1 div.sk-toggleable__content.fitted pre {\n",
       "  /* unfitted */\n",
       "  background-color: var(--sklearn-color-fitted-level-0);\n",
       "}\n",
       "\n",
       "#sk-container-id-1 input.sk-toggleable__control:checked~div.sk-toggleable__content {\n",
       "  /* Expand drop-down */\n",
       "  max-height: 200px;\n",
       "  max-width: 100%;\n",
       "  overflow: auto;\n",
       "}\n",
       "\n",
       "#sk-container-id-1 input.sk-toggleable__control:checked~label.sk-toggleable__label-arrow:before {\n",
       "  content: \"▾\";\n",
       "}\n",
       "\n",
       "/* Pipeline/ColumnTransformer-specific style */\n",
       "\n",
       "#sk-container-id-1 div.sk-label input.sk-toggleable__control:checked~label.sk-toggleable__label {\n",
       "  color: var(--sklearn-color-text);\n",
       "  background-color: var(--sklearn-color-unfitted-level-2);\n",
       "}\n",
       "\n",
       "#sk-container-id-1 div.sk-label.fitted input.sk-toggleable__control:checked~label.sk-toggleable__label {\n",
       "  background-color: var(--sklearn-color-fitted-level-2);\n",
       "}\n",
       "\n",
       "/* Estimator-specific style */\n",
       "\n",
       "/* Colorize estimator box */\n",
       "#sk-container-id-1 div.sk-estimator input.sk-toggleable__control:checked~label.sk-toggleable__label {\n",
       "  /* unfitted */\n",
       "  background-color: var(--sklearn-color-unfitted-level-2);\n",
       "}\n",
       "\n",
       "#sk-container-id-1 div.sk-estimator.fitted input.sk-toggleable__control:checked~label.sk-toggleable__label {\n",
       "  /* fitted */\n",
       "  background-color: var(--sklearn-color-fitted-level-2);\n",
       "}\n",
       "\n",
       "#sk-container-id-1 div.sk-label label.sk-toggleable__label,\n",
       "#sk-container-id-1 div.sk-label label {\n",
       "  /* The background is the default theme color */\n",
       "  color: var(--sklearn-color-text-on-default-background);\n",
       "}\n",
       "\n",
       "/* On hover, darken the color of the background */\n",
       "#sk-container-id-1 div.sk-label:hover label.sk-toggleable__label {\n",
       "  color: var(--sklearn-color-text);\n",
       "  background-color: var(--sklearn-color-unfitted-level-2);\n",
       "}\n",
       "\n",
       "/* Label box, darken color on hover, fitted */\n",
       "#sk-container-id-1 div.sk-label.fitted:hover label.sk-toggleable__label.fitted {\n",
       "  color: var(--sklearn-color-text);\n",
       "  background-color: var(--sklearn-color-fitted-level-2);\n",
       "}\n",
       "\n",
       "/* Estimator label */\n",
       "\n",
       "#sk-container-id-1 div.sk-label label {\n",
       "  font-family: monospace;\n",
       "  font-weight: bold;\n",
       "  display: inline-block;\n",
       "  line-height: 1.2em;\n",
       "}\n",
       "\n",
       "#sk-container-id-1 div.sk-label-container {\n",
       "  text-align: center;\n",
       "}\n",
       "\n",
       "/* Estimator-specific */\n",
       "#sk-container-id-1 div.sk-estimator {\n",
       "  font-family: monospace;\n",
       "  border: 1px dotted var(--sklearn-color-border-box);\n",
       "  border-radius: 0.25em;\n",
       "  box-sizing: border-box;\n",
       "  margin-bottom: 0.5em;\n",
       "  /* unfitted */\n",
       "  background-color: var(--sklearn-color-unfitted-level-0);\n",
       "}\n",
       "\n",
       "#sk-container-id-1 div.sk-estimator.fitted {\n",
       "  /* fitted */\n",
       "  background-color: var(--sklearn-color-fitted-level-0);\n",
       "}\n",
       "\n",
       "/* on hover */\n",
       "#sk-container-id-1 div.sk-estimator:hover {\n",
       "  /* unfitted */\n",
       "  background-color: var(--sklearn-color-unfitted-level-2);\n",
       "}\n",
       "\n",
       "#sk-container-id-1 div.sk-estimator.fitted:hover {\n",
       "  /* fitted */\n",
       "  background-color: var(--sklearn-color-fitted-level-2);\n",
       "}\n",
       "\n",
       "/* Specification for estimator info (e.g. \"i\" and \"?\") */\n",
       "\n",
       "/* Common style for \"i\" and \"?\" */\n",
       "\n",
       ".sk-estimator-doc-link,\n",
       "a:link.sk-estimator-doc-link,\n",
       "a:visited.sk-estimator-doc-link {\n",
       "  float: right;\n",
       "  font-size: smaller;\n",
       "  line-height: 1em;\n",
       "  font-family: monospace;\n",
       "  background-color: var(--sklearn-color-background);\n",
       "  border-radius: 1em;\n",
       "  height: 1em;\n",
       "  width: 1em;\n",
       "  text-decoration: none !important;\n",
       "  margin-left: 1ex;\n",
       "  /* unfitted */\n",
       "  border: var(--sklearn-color-unfitted-level-1) 1pt solid;\n",
       "  color: var(--sklearn-color-unfitted-level-1);\n",
       "}\n",
       "\n",
       ".sk-estimator-doc-link.fitted,\n",
       "a:link.sk-estimator-doc-link.fitted,\n",
       "a:visited.sk-estimator-doc-link.fitted {\n",
       "  /* fitted */\n",
       "  border: var(--sklearn-color-fitted-level-1) 1pt solid;\n",
       "  color: var(--sklearn-color-fitted-level-1);\n",
       "}\n",
       "\n",
       "/* On hover */\n",
       "div.sk-estimator:hover .sk-estimator-doc-link:hover,\n",
       ".sk-estimator-doc-link:hover,\n",
       "div.sk-label-container:hover .sk-estimator-doc-link:hover,\n",
       ".sk-estimator-doc-link:hover {\n",
       "  /* unfitted */\n",
       "  background-color: var(--sklearn-color-unfitted-level-3);\n",
       "  color: var(--sklearn-color-background);\n",
       "  text-decoration: none;\n",
       "}\n",
       "\n",
       "div.sk-estimator.fitted:hover .sk-estimator-doc-link.fitted:hover,\n",
       ".sk-estimator-doc-link.fitted:hover,\n",
       "div.sk-label-container:hover .sk-estimator-doc-link.fitted:hover,\n",
       ".sk-estimator-doc-link.fitted:hover {\n",
       "  /* fitted */\n",
       "  background-color: var(--sklearn-color-fitted-level-3);\n",
       "  color: var(--sklearn-color-background);\n",
       "  text-decoration: none;\n",
       "}\n",
       "\n",
       "/* Span, style for the box shown on hovering the info icon */\n",
       ".sk-estimator-doc-link span {\n",
       "  display: none;\n",
       "  z-index: 9999;\n",
       "  position: relative;\n",
       "  font-weight: normal;\n",
       "  right: .2ex;\n",
       "  padding: .5ex;\n",
       "  margin: .5ex;\n",
       "  width: min-content;\n",
       "  min-width: 20ex;\n",
       "  max-width: 50ex;\n",
       "  color: var(--sklearn-color-text);\n",
       "  box-shadow: 2pt 2pt 4pt #999;\n",
       "  /* unfitted */\n",
       "  background: var(--sklearn-color-unfitted-level-0);\n",
       "  border: .5pt solid var(--sklearn-color-unfitted-level-3);\n",
       "}\n",
       "\n",
       ".sk-estimator-doc-link.fitted span {\n",
       "  /* fitted */\n",
       "  background: var(--sklearn-color-fitted-level-0);\n",
       "  border: var(--sklearn-color-fitted-level-3);\n",
       "}\n",
       "\n",
       ".sk-estimator-doc-link:hover span {\n",
       "  display: block;\n",
       "}\n",
       "\n",
       "/* \"?\"-specific style due to the `<a>` HTML tag */\n",
       "\n",
       "#sk-container-id-1 a.estimator_doc_link {\n",
       "  float: right;\n",
       "  font-size: 1rem;\n",
       "  line-height: 1em;\n",
       "  font-family: monospace;\n",
       "  background-color: var(--sklearn-color-background);\n",
       "  border-radius: 1rem;\n",
       "  height: 1rem;\n",
       "  width: 1rem;\n",
       "  text-decoration: none;\n",
       "  /* unfitted */\n",
       "  color: var(--sklearn-color-unfitted-level-1);\n",
       "  border: var(--sklearn-color-unfitted-level-1) 1pt solid;\n",
       "}\n",
       "\n",
       "#sk-container-id-1 a.estimator_doc_link.fitted {\n",
       "  /* fitted */\n",
       "  border: var(--sklearn-color-fitted-level-1) 1pt solid;\n",
       "  color: var(--sklearn-color-fitted-level-1);\n",
       "}\n",
       "\n",
       "/* On hover */\n",
       "#sk-container-id-1 a.estimator_doc_link:hover {\n",
       "  /* unfitted */\n",
       "  background-color: var(--sklearn-color-unfitted-level-3);\n",
       "  color: var(--sklearn-color-background);\n",
       "  text-decoration: none;\n",
       "}\n",
       "\n",
       "#sk-container-id-1 a.estimator_doc_link.fitted:hover {\n",
       "  /* fitted */\n",
       "  background-color: var(--sklearn-color-fitted-level-3);\n",
       "}\n",
       "</style><div id=\"sk-container-id-1\" class=\"sk-top-container\"><div class=\"sk-text-repr-fallback\"><pre>Pipeline(steps=[(&#x27;tfidf&#x27;, TfidfVectorizer()),\n",
       "                (&#x27;classifier&#x27;, SVC(C=100, gamma=&#x27;auto&#x27;))])</pre><b>In a Jupyter environment, please rerun this cell to show the HTML representation or trust the notebook. <br />On GitHub, the HTML representation is unable to render, please try loading this page with nbviewer.org.</b></div><div class=\"sk-container\" hidden><div class=\"sk-item sk-dashed-wrapped\"><div class=\"sk-label-container\"><div class=\"sk-label fitted sk-toggleable\"><input class=\"sk-toggleable__control sk-hidden--visually\" id=\"sk-estimator-id-1\" type=\"checkbox\" ><label for=\"sk-estimator-id-1\" class=\"sk-toggleable__label fitted sk-toggleable__label-arrow fitted\">&nbsp;&nbsp;Pipeline<a class=\"sk-estimator-doc-link fitted\" rel=\"noreferrer\" target=\"_blank\" href=\"https://scikit-learn.org/1.4/modules/generated/sklearn.pipeline.Pipeline.html\">?<span>Documentation for Pipeline</span></a><span class=\"sk-estimator-doc-link fitted\">i<span>Fitted</span></span></label><div class=\"sk-toggleable__content fitted\"><pre>Pipeline(steps=[(&#x27;tfidf&#x27;, TfidfVectorizer()),\n",
       "                (&#x27;classifier&#x27;, SVC(C=100, gamma=&#x27;auto&#x27;))])</pre></div> </div></div><div class=\"sk-serial\"><div class=\"sk-item\"><div class=\"sk-estimator fitted sk-toggleable\"><input class=\"sk-toggleable__control sk-hidden--visually\" id=\"sk-estimator-id-2\" type=\"checkbox\" ><label for=\"sk-estimator-id-2\" class=\"sk-toggleable__label fitted sk-toggleable__label-arrow fitted\">&nbsp;TfidfVectorizer<a class=\"sk-estimator-doc-link fitted\" rel=\"noreferrer\" target=\"_blank\" href=\"https://scikit-learn.org/1.4/modules/generated/sklearn.feature_extraction.text.TfidfVectorizer.html\">?<span>Documentation for TfidfVectorizer</span></a></label><div class=\"sk-toggleable__content fitted\"><pre>TfidfVectorizer()</pre></div> </div></div><div class=\"sk-item\"><div class=\"sk-estimator fitted sk-toggleable\"><input class=\"sk-toggleable__control sk-hidden--visually\" id=\"sk-estimator-id-3\" type=\"checkbox\" ><label for=\"sk-estimator-id-3\" class=\"sk-toggleable__label fitted sk-toggleable__label-arrow fitted\">&nbsp;SVC<a class=\"sk-estimator-doc-link fitted\" rel=\"noreferrer\" target=\"_blank\" href=\"https://scikit-learn.org/1.4/modules/generated/sklearn.svm.SVC.html\">?<span>Documentation for SVC</span></a></label><div class=\"sk-toggleable__content fitted\"><pre>SVC(C=100, gamma=&#x27;auto&#x27;)</pre></div> </div></div></div></div></div></div>"
      ],
      "text/plain": [
       "Pipeline(steps=[('tfidf', TfidfVectorizer()),\n",
       "                ('classifier', SVC(C=100, gamma='auto'))])"
      ]
     },
     "execution_count": 26,
     "metadata": {},
     "output_type": "execute_result"
    }
   ],
   "source": [
    "svm.fit(X_train, y_train)"
   ]
  },
  {
   "cell_type": "code",
   "execution_count": 27,
   "id": "d2860a2f-1ed0-478f-bc60-c70fac09ff60",
   "metadata": {},
   "outputs": [],
   "source": [
    "y_pred = svm.predict(X_test)"
   ]
  },
  {
   "cell_type": "code",
   "execution_count": 28,
   "id": "4e63db20-c25b-471a-a73e-e731df579173",
   "metadata": {},
   "outputs": [
    {
     "data": {
      "text/plain": [
       "0.9443207126948775"
      ]
     },
     "execution_count": 28,
     "metadata": {},
     "output_type": "execute_result"
    }
   ],
   "source": [
    "accuracy_score(y_test, y_pred)"
   ]
  },
  {
   "cell_type": "code",
   "execution_count": 29,
   "id": "7ddbd5df-2c67-4de6-ad42-b2ada46fbd5b",
   "metadata": {},
   "outputs": [
    {
     "data": {
      "text/plain": [
       "array([[222,  12],\n",
       "       [ 13, 202]], dtype=int64)"
      ]
     },
     "execution_count": 29,
     "metadata": {},
     "output_type": "execute_result"
    }
   ],
   "source": [
    "confusion_matrix(y_test, y_pred)"
   ]
  },
  {
   "cell_type": "code",
   "execution_count": 33,
   "id": "ab51a092-6e3e-4204-953e-3ff85f6a3b2b",
   "metadata": {},
   "outputs": [
    {
     "name": "stdout",
     "output_type": "stream",
     "text": [
      "Classification Report:\n",
      "               precision    recall  f1-score   support\n",
      "\n",
      "         ham       0.94      0.95      0.95       234\n",
      "        spam       0.94      0.94      0.94       215\n",
      "\n",
      "    accuracy                           0.94       449\n",
      "   macro avg       0.94      0.94      0.94       449\n",
      "weighted avg       0.94      0.94      0.94       449\n",
      "\n"
     ]
    }
   ],
   "source": [
    "print(\"Classification Report:\\n\", classification_report(y_test, y_pred))"
   ]
  },
  {
   "cell_type": "markdown",
   "id": "066c2864-0216-4b5d-804f-3e43b92c6e19",
   "metadata": {},
   "source": [
    "## Using \"class_wieght='balanced'\" with the whole dataset"
   ]
  },
  {
   "cell_type": "code",
   "execution_count": 32,
   "id": "8a2fc1ab-1022-45b7-a461-0c60a05cb539",
   "metadata": {},
   "outputs": [
    {
     "name": "stdout",
     "output_type": "stream",
     "text": [
      "Classification Report:\n",
      "               precision    recall  f1-score   support\n",
      "\n",
      "         ham       0.99      1.00      0.99      1444\n",
      "        spam       0.98      0.92      0.95       228\n",
      "\n",
      "    accuracy                           0.99      1672\n",
      "   macro avg       0.98      0.96      0.97      1672\n",
      "weighted avg       0.99      0.99      0.99      1672\n",
      "\n",
      "Confusion Matrix:\n",
      " [[1440    4]\n",
      " [  19  209]]\n",
      "Accuracy Score: 0.986244019138756\n"
     ]
    }
   ],
   "source": [
    "# Split the entire data into training and test sets\n",
    "X_train_full, X_test_full, y_train_full, y_test_full = train_test_split(df['message'], df['label'], test_size=0.3, random_state=47, shuffle=True)\n",
    "\n",
    "# Create a pipeline with TfidfVectorizer and SVC with class_weight='balanced'\n",
    "pipeline_balanced = Pipeline([\n",
    "    (\"tfidf\", TfidfVectorizer()),\n",
    "    (\"classifier\", SVC(kernel='linear', class_weight='balanced'))\n",
    "])\n",
    "\n",
    "# Train the model\n",
    "pipeline_balanced.fit(X_train_full, y_train_full)\n",
    "\n",
    "# Predict the test set results\n",
    "y_pred_balanced = pipeline_balanced.predict(X_test_full)\n",
    "\n",
    "# Evaluate the model\n",
    "print(\"Classification Report:\\n\", classification_report(y_test_full, y_pred_balanced))\n",
    "print(\"Confusion Matrix:\\n\", confusion_matrix(y_test_full, y_pred_balanced))\n",
    "print(\"Accuracy Score:\", accuracy_score(y_test_full, y_pred_balanced))\n"
   ]
  },
  {
   "cell_type": "markdown",
   "id": "06bb4d5f-ece2-4d91-bb90-7120e2bcae9e",
   "metadata": {},
   "source": [
    "## Conclusion\n",
    "\n",
    "### Balanced Subset Approach\n",
    "\n",
    "Using a balanced subset of the data, where the number of \"ham\" messages is equal to the number of \"spam\" messages, we achieved the following results with the SVM classifier:\n",
    "\n",
    "- **Precision:**\n",
    "  - Ham: 0.94\n",
    "  - Spam: 0.94\n",
    "- **Recall:**\n",
    "  - Ham: 0.95\n",
    "  - Spam: 0.94\n",
    "- **F1-Score:**\n",
    "  - Ham: 0.95\n",
    "  - Spam: 0.94\n",
    "- **Overall Accuracy:** 0.94\n",
    "\n",
    "This approach yielded a balanced performance across both classes, but it limited the amount of data used for training by reducing the number of \"ham\" messages.\n",
    "\n",
    "### Entire Dataset with `class_weight='balanced'`\n",
    "\n",
    "Using the entire dataset and setting `class_weight='balanced'` in the SVM classifier, we achieved the following results:\n",
    "\n",
    "- **Precision:**\n",
    "  - Ham: 0.99\n",
    "  - Spam: 0.98\n",
    "- **Recall:**\n",
    "  - Ham: 1.00\n",
    "  - Spam: 0.92\n",
    "- **F1-Score:**\n",
    "  - Ham: 0.99\n",
    "  - Spam: 0.95\n",
    "- **Overall Accuracy:** 0.99\n",
    "\n",
    "The `class_weight='balanced'` approach showed a significant improvement in both precision and recall for the \"spam\" class while maintaining high performance for the \"ham\" class. This method leveraged the entire dataset and adjusted the class weights to handle the imbalance effectively.\n",
    "\n",
    "### Summary\n",
    "\n",
    "Both approaches demonstrated the effectiveness of the SVM classifier in detecting spam messages. However, using the entire dataset with `class_weight='balanced'` provided superior results, with higher overall accuracy and better handling of class imbalance. This approach ensures that the classifier is well-equipped to distinguish between \"ham\" and \"spam\" messages, even in an imbalanced dataset.\n",
    "\n",
    "In conclusion, while balancing the dataset by sampling is a valid approach, leveraging the entire dataset with class weight adjustment is more effective for handling class imbalance and achieving better classification performance. This insight is crucial for building robust spam detection systems and other applications where class imbalance is a concern.\n"
   ]
  },
  {
   "cell_type": "code",
   "execution_count": null,
   "id": "a5aeaa54-45b7-402b-9571-ffcd813d3cd0",
   "metadata": {},
   "outputs": [],
   "source": []
  }
 ],
 "metadata": {
  "kernelspec": {
   "display_name": "Python 3 (ipykernel)",
   "language": "python",
   "name": "python3"
  },
  "language_info": {
   "codemirror_mode": {
    "name": "ipython",
    "version": 3
   },
   "file_extension": ".py",
   "mimetype": "text/x-python",
   "name": "python",
   "nbconvert_exporter": "python",
   "pygments_lexer": "ipython3",
   "version": "3.12.4"
  }
 },
 "nbformat": 4,
 "nbformat_minor": 5
}
